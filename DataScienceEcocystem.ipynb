{
 "cells": [
  {
   "cell_type": "markdown",
   "id": "9f228a54-3073-49a2-b8e5-16e0f1e73c63",
   "metadata": {},
   "source": [
    "## Data Science Tools and Ecosystem"
   ]
  },
  {
   "cell_type": "markdown",
   "id": "e48c784a-1c40-43ec-ac4e-7d49d8617e65",
   "metadata": {},
   "source": [
    "In this notebook, Data Science Tools and Ecosystem are summarized."
   ]
  },
  {
   "cell_type": "markdown",
   "id": "8934ff7d-9e55-474f-b4e0-32657ee0af58",
   "metadata": {},
   "source": [
    "**Objectives:**"
   ]
  },
  {
   "cell_type": "markdown",
   "id": "35ae3c0e-4690-440d-982c-6e532c8775ba",
   "metadata": {},
   "source": [
    "* List popular languages that a data Scientist Use\n",
    "* List the commonly used librairies\n",
    "* create table DataScience Tools with one column"
   ]
  },
  {
   "cell_type": "markdown",
   "id": "6ded84d7-34ee-4459-a607-231846b8155a",
   "metadata": {},
   "source": [
    "some of the popular languages that Data Scientists use are:\n",
    "   "
   ]
  },
  {
   "cell_type": "markdown",
   "id": "db3f7dae-5575-42e5-a323-bdefc4171709",
   "metadata": {},
   "source": [
    "1. Python\n",
    "2. R\n",
    "3. SQL"
   ]
  },
  {
   "cell_type": "markdown",
   "id": "0cedcb54-1ea8-4056-a4c8-36b32ecf0bff",
   "metadata": {},
   "source": [
    "Some of the commonly used librairies used by Data Scientists include\n"
   ]
  },
  {
   "cell_type": "markdown",
   "id": "79968915-bc0e-4dd7-99f8-e110afb40d90",
   "metadata": {},
   "source": [
    "1. ggplot\n",
    "2. dplyr\n",
    "3. caret\n"
   ]
  },
  {
   "cell_type": "markdown",
   "id": "8b944375-b9f9-4f3d-9e12-1b797c8dffa1",
   "metadata": {},
   "source": [
    "<table border=\"1\">\n",
    "  <caption>Data Science Tools</caption>\n",
    "  <tr>\n",
    "    <td>Jupyter Notebook</td>\n",
    "  </tr>\n",
    "  <tr>\n",
    "    <td>RStudio</td>\n",
    "  </tr>\n",
    "  <tr>\n",
    "    <td>IBM Watson Studio</td>\n",
    "  </tr>\n",
    "</table>"
   ]
  },
  {
   "cell_type": "markdown",
   "id": "32859a91-dd7f-498b-8afe-51269fcc473f",
   "metadata": {},
   "source": [
    "### Below are a few examples of evoluating arithmetic expressions in Python"
   ]
  },
  {
   "cell_type": "code",
   "execution_count": 29,
   "id": "1321554f-f0ad-4c2f-a728-da27894fb332",
   "metadata": {},
   "outputs": [
    {
     "name": "stdout",
     "output_type": "stream",
     "text": [
      "This is a simple arithmetic expression to multiply then add integers \n",
      "17\n"
     ]
    }
   ],
   "source": [
    "print(\"This is a simple arithmetic expression to multiply then add integers \")\n",
    "y=(3*4)+5\n",
    "print(y)"
   ]
  },
  {
   "cell_type": "code",
   "execution_count": 37,
   "id": "39aa39e6-3148-4e3b-af99-0633640d17fc",
   "metadata": {},
   "outputs": [
    {
     "name": "stdout",
     "output_type": "stream",
     "text": [
      "This will convet 200 minutes to hours by diving by 60\n",
      "3.3333333333333335\n"
     ]
    }
   ],
   "source": [
    "print(\"This will convet 200 minutes to hours by diving by 60\")\n",
    "z=200/60\n",
    "print(z)"
   ]
  },
  {
   "cell_type": "markdown",
   "id": "8cc8ad2f-1930-4318-ae55-47ff5e4d72a7",
   "metadata": {},
   "source": [
    "## Author"
   ]
  },
  {
   "cell_type": "markdown",
   "id": "5d7122d6-a255-473c-9e65-a38c12fa2fc9",
   "metadata": {},
   "source": [
    "Emmanuelle TCHAMBILA-SYLTHO"
   ]
  },
  {
   "cell_type": "code",
   "execution_count": null,
   "id": "c689a832-ff24-4b5d-bb57-3ca0df5cbeb8",
   "metadata": {},
   "outputs": [],
   "source": []
  }
 ],
 "metadata": {
  "kernelspec": {
   "display_name": "Python [conda env:base] *",
   "language": "python",
   "name": "conda-base-py"
  },
  "language_info": {
   "codemirror_mode": {
    "name": "ipython",
    "version": 3
   },
   "file_extension": ".py",
   "mimetype": "text/x-python",
   "name": "python",
   "nbconvert_exporter": "python",
   "pygments_lexer": "ipython3",
   "version": "3.12.7"
  }
 },
 "nbformat": 4,
 "nbformat_minor": 5
}
